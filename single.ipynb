{
 "cells": [
  {
   "cell_type": "code",
   "execution_count": 2,
   "metadata": {},
   "outputs": [
    {
     "data": {
      "text/plain": [
       "smith_waterman (generic function with 1 method)"
      ]
     },
     "metadata": {},
     "output_type": "display_data"
    }
   ],
   "source": [
    "function smith_waterman(seq1::String, seq2::String; match_score=2, mismatch_penalty=-1, gap_penalty=-1, k=1)\n",
    "    m, n = length(seq1), length(seq2)\n",
    "    score_matrix = zeros(Int, m+1, n+1)\n",
    "    max_scores = []\n",
    "\n",
    "    for i in 2:m+1\n",
    "        for j in 2:n+1\n",
    "            match = (seq1[i-1] == seq2[j-1] ? match_score : mismatch_penalty)\n",
    "            score_diag = score_matrix[i-1, j-1] + match\n",
    "            score_up = score_matrix[i-1, j] + gap_penalty\n",
    "            score_left = score_matrix[i, j-1] + gap_penalty\n",
    "            score_matrix[i, j] = max(0, score_diag, score_up, score_left)\n",
    "\n",
    "            if score_matrix[i, j] > 0\n",
    "                push!(max_scores, (score_matrix[i, j], (i, j)))\n",
    "            end\n",
    "        end\n",
    "    end\n",
    "\n",
    "    sort!(max_scores, by=x->x[1], rev=true)\n",
    "    top_k_scores = max_scores[1:min(k, length(max_scores))]\n",
    "\n",
    "    function traceback(score_pos)\n",
    "        score, (i, j) = score_pos\n",
    "        aligned_seq1 = \"\"\n",
    "        aligned_seq2 = \"\"\n",
    "        while i > 1 && j > 1 && score_matrix[i, j] > 0\n",
    "            if score_matrix[i, j] == score_matrix[i-1, j-1] + (seq1[i-1] == seq2[j-1] ? match_score : mismatch_penalty)\n",
    "                aligned_seq1 = seq1[i-1] * aligned_seq1\n",
    "                aligned_seq2 = seq2[j-1] * aligned_seq2\n",
    "                i -= 1\n",
    "                j -= 1\n",
    "            elseif score_matrix[i, j] == score_matrix[i-1, j] + gap_penalty\n",
    "                aligned_seq1 = seq1[i-1] * aligned_seq1\n",
    "                aligned_seq2 = \"-\" * aligned_seq2\n",
    "                i -= 1\n",
    "            else\n",
    "                aligned_seq1 = \"-\" * aligned_seq1\n",
    "                aligned_seq2 = seq2[j-1] * aligned_seq2\n",
    "                j -= 1\n",
    "            end\n",
    "        end\n",
    "        return (aligned_seq1, aligned_seq2, score)\n",
    "    end\n",
    "\n",
    "    alignments = map(traceback, top_k_scores)\n",
    "    return alignments\n",
    "end\n",
    "\n"
   ]
  },
  {
   "cell_type": "code",
   "execution_count": 4,
   "metadata": {},
   "outputs": [
    {
     "name": "stdout",
     "output_type": "stream",
     "text": [
      "Top Alignments:\n",
      "Alignment: A-CACACTA - AGCACAC-A Score: 12\n",
      "Alignment: A-CACAC - AGCACAC Score: "
     ]
    },
    {
     "name": "stdout",
     "output_type": "stream",
     "text": [
      "11\n",
      "Alignment: ACACA - ACACA Score: 10\n"
     ]
    }
   ],
   "source": [
    "\n",
    "# Example usage\n",
    "seq1 = \"ACACACTA\"\n",
    "seq2 = \"AGCACACA\"\n",
    "alignments = smith_waterman(seq1, seq2, k=3)\n",
    "println(\"Top Alignments:\")\n",
    "for alignment in alignments\n",
    "    println(\"Alignment: \", alignment[1], \" - \", alignment[2], \" Score: \", alignment[3])\n",
    "end\n"
   ]
  },
  {
   "cell_type": "code",
   "execution_count": 4,
   "metadata": {},
   "outputs": [
    {
     "data": {
      "text/plain": [
       "smith_waterman_single_vs_multiple (generic function with 1 method)"
      ]
     },
     "metadata": {},
     "output_type": "display_data"
    }
   ],
   "source": [
    "function smith_waterman_single_vs_multiple(reference_seq::String, sequences::Vector{String}; match_score=2, mismatch_penalty=-1, gap_penalty=-1, k=1)\n",
    "    results = []\n",
    "\n",
    "    for seq in sequences\n",
    "        alignments = smith_waterman(reference_seq, seq, match_score=match_score, mismatch_penalty=mismatch_penalty, gap_penalty=gap_penalty, k=k)\n",
    "        push!(results, (seq, alignments))\n",
    "    end\n",
    "\n",
    "    return results\n",
    "end\n"
   ]
  },
  {
   "cell_type": "code",
   "execution_count": 5,
   "metadata": {},
   "outputs": [
    {
     "name": "stdout",
     "output_type": "stream",
     "text": [
      "Alignments with reference sequence:"
     ]
    },
    {
     "name": "stdout",
     "output_type": "stream",
     "text": [
      "\n",
      "Alignments with sequence: AGCACACA"
     ]
    },
    {
     "name": "stdout",
     "output_type": "stream",
     "text": [
      "\n",
      " - Alignment: A-CACACTA - AGCACAC-A Score: "
     ]
    },
    {
     "name": "stdout",
     "output_type": "stream",
     "text": [
      "12\n",
      " - Alignment: A-CACAC - AGCACAC Score: 11\n",
      "Alignments with sequence: TACACGT\n",
      " - Alignment: ACAC-T - ACACGT Score: 9\n",
      " - Alignment: ACAC - ACAC Score: 8\n",
      "Alignments with sequence: GTCAGC\n",
      " - Alignment: CA-C - CAGC Score: 5\n",
      " - Alignment: CA-C - CAGC Score: 5\n"
     ]
    }
   ],
   "source": [
    "reference_seq = \"ACACACTA\"\n",
    "other_sequences = [\"AGCACACA\", \"TACACGT\", \"GTCAGC\"]\n",
    "alignments = smith_waterman_single_vs_multiple(reference_seq, other_sequences, k=2)\n",
    "\n",
    "println(\"Alignments with reference sequence:\")\n",
    "for (seq, alignment_list) in alignments\n",
    "    println(\"Alignments with sequence: \", seq)\n",
    "    for alignment in alignment_list\n",
    "        println(\" - Alignment: \", alignment[1], \" - \", alignment[2], \" Score: \", alignment[3])\n",
    "    end\n",
    "end\n",
    "\n"
   ]
  }
 ],
 "metadata": {
  "kernelspec": {
   "display_name": "Julia 1.9.3",
   "language": "julia",
   "name": "julia-1.9"
  },
  "language_info": {
   "file_extension": ".jl",
   "mimetype": "application/julia",
   "name": "julia",
   "version": "1.9.3"
  }
 },
 "nbformat": 4,
 "nbformat_minor": 2
}
